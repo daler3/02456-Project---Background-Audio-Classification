{
 "cells": [
  {
   "cell_type": "markdown",
   "metadata": {
    "colab_type": "text",
    "id": "LjM4sZCIqJgT"
   },
   "source": [
    "# 1. Experimental frame setup"
   ]
  },
  {
   "cell_type": "markdown",
   "metadata": {
    "colab_type": "text",
    "id": "h_vHPUgsqJg_"
   },
   "source": [
    "## 1.1 Dataset\n",
    "### 1.1.1 UrbanSound8K\n",
    "Download the dataset from https://serv.cusp.nyu.edu/projects/urbansounddataset/download-urbansound8k.html"
   ]
  },
  {
   "cell_type": "markdown",
   "metadata": {
    "colab_type": "text",
    "id": "vl2tS2EfqJhA"
   },
   "source": [
    "## 1.2 Feature extraction\n",
    "Starting from the $\\texttt{.wav}$ files of the UrbanSound8K dataset, we use the $\\texttt{librosa}$ library to extract the log-powered mel-spectrograms.\n",
    "![Mel Spectrogram](https://dtudk-my.sharepoint.com/personal/s134416_win_dtu_dk/_layouts/15/guestaccess.aspx?docid=09c67c0b2c0fd47a0bd57f98c2745d03b&authkey=AYQocyDrB47VOhMvMUIxo_Q&e=5efe80a2e6be40248c0962d2f37ef631)\n",
    "\n",
    "We save the extracted features and labels in two $\\texttt{.npy}$ files that we can easily load in memory. This is crucial in the process of cross-validation, where we would otherwise lose a lot of time reloading the files with $\\texttt{librosa}$."
   ]
  },
  {
   "cell_type": "markdown",
   "metadata": {
    "colab_type": "text",
    "id": "F2kTa-iyqJhH"
   },
   "source": [
    "If you don't want to run the preprocessor, you can download the long variant (101 frames) of the 60 bands extracted features [here](https://dtudk-my.sharepoint.com/personal/s134416_win_dtu_dk/_layouts/15/guestaccess.aspx?folderid=07889eea02b1746d0ad30d5aa4ed2691d&authkey=AYHLMZEoCu8jzYDf01l6qMs&e=7710d1abfdc245998150ceecc04651de)"
   ]
  },
  {
   "cell_type": "code",
   "execution_count": 1,
   "metadata": {
    "colab": {
     "autoexec": {
      "startup": false,
      "wait_interval": 0
     }
    },
    "colab_type": "code",
    "id": "q9tzNa-5qJhC"
   },
   "outputs": [
    {
     "name": "stdout",
     "output_type": "stream",
     "text": [
      "extracting fold1\n",
      "extracting fold2\n",
      "extracting fold3\n",
      "extracting fold4\n",
      "extracting fold5\n",
      "extracting fold6\n",
      "extracting fold7\n",
      "extracting fold8\n",
      "extracting fold9\n",
      "extracting fold10\n"
     ]
    }
   ],
   "source": [
    "from preprocessor import preprocessor\n",
    "\n",
    "pp = preprocessor(parent_dir='data/UrbanSound8K')\n",
    "\n",
    "train_dirs = [\"fold1\", \"fold2\", \"fold3\", \"fold4\", \"fold5\", \"fold6\", \"fold7\", \"fold8\", \"fold9\", \"fold10\"]\n",
    "\n",
    "#pp.save_fts_lbs(train_dirs=train_dirs, save_path='extracted/short_60', segment_size=20480, overlap=0.5, bands=60, frames=41)\n",
    "pp.save_fts_lbs(train_dirs=train_dirs, save_path='extracted/long_60', segment_size=51200, overlap=0.9, bands=60, frames=101)\n",
    "#pp.save_fts_lbs(train_dirs=train_dirs, save_path='extracted/short_200', segment_size=20480, overlap=0.5, bands=200, frames=41)\n",
    "#pp.save_fts_lbs(train_dirs=train_dirs, save_path='extracted/long_200', segment_size=51200, overlap=0.9, bands=200, frames=101)"
   ]
  },
  {
   "cell_type": "markdown",
   "metadata": {
    "colab_type": "text",
    "id": "lW0mBPcSqJhI"
   },
   "source": [
    "## 1.3 Datasets with overlaying sound events "
   ]
  },
  {
   "cell_type": "markdown",
   "metadata": {
    "colab": {
     "autoexec": {
      "startup": false,
      "wait_interval": 0
     }
    },
    "colab_type": "code",
    "collapsed": true,
    "id": "JW_gv_lhqJhI"
   },
   "source": [
    "We created two datasets called **50-50** and **90-10**. \n",
    "- **50-50**: composed by pairs of sounds overlayed and balanced, taking into account all the possible combination of classes (for undersampled classes data are used multiple times, adding white noise at the second time they are encountered). \n",
    "- **90-10**: composed by pairs of sounds overlayed and balanced, taking into account all the possible combination of classes, with the second sound attenuated by 30dB. Besides taking into account all the possible combination of classes and the different volumes, the corresponding  is really similar to the one for 50-50 creation.\n",
    "\n",
    "The scripts can be found in the GitHub repo in the folder called \"Overlaying_datasets_creation_scripts\". The file \"main_script_overlapping_segments.py\" contains the code for running those scripts and it is displayed below. **Note** that for handling audio files we used a library called PyDub (*https://www.pydub.com*) and it is necessary to install and other dependecies to run it. However, we provide below also the link for downloading the already extracted features of the overlaying datasets. \n",
    "\n",
    "Moreover, in order to run the scripts you should have downloaded UrbanSound8K, have the csv file describing its metadata, and the original_path (path containing the folders of urbansound8k) and destination_path (path for accomodating the folders for the new datasets clips) should be present in your directory. Furthermore, not all the UrbanSound8K files are in 44100Khz, necessary format for PyDub to handle those. Thus, once urbansound8k is downloaded, the files should be converted to 441000 folder by folder, with the following bash code line (after having created the folders for accomodating the overlaying files, called, for example *folder1_overlap*), which uses *ffmpeg* (*https://www.ffmpeg.org/*) for converting the files:"
   ]
  },
  {
   "cell_type": "code",
   "execution_count": null,
   "metadata": {
    "collapsed": true
   },
   "outputs": [],
   "source": [
    "for aud in *.wav; do ffmpeg -i “$aud” -ar 44100 “folder1_overlap/${aud%}“; done "
   ]
  },
  {
   "cell_type": "code",
   "execution_count": null,
   "metadata": {
    "collapsed": true
   },
   "outputs": [],
   "source": [
    "##install some necessary libraries\n",
    "!pip install pydub\n",
    "!pip install wavio\n",
    "!pip install scipy\n",
    "!pip install wave"
   ]
  },
  {
   "cell_type": "code",
   "execution_count": null,
   "metadata": {
    "collapsed": true
   },
   "outputs": [],
   "source": [
    "import pandas\n",
    "import sys\n",
    "import wave\n",
    "import math\n",
    "import struct\n",
    "import random\n",
    "import argparse\n",
    "from itertools import *\n",
    "import pydub \n",
    "from pydub import AudioSegment\n",
    "from pydub import generators as g\n",
    "import scipy.io\n",
    "from scipy.io import wavfile\n",
    "import soundfile as sf\n",
    "import wavio\n",
    "import overlap_segments_w_wn as ov_5050\n",
    "import overlap_segments_w_wn_90_10volume as ov_9010\n",
    "\n",
    "\n",
    "#run script for creating 50-50 dataset\n",
    "ov_5050.overlay_50_50_creation()\n",
    "\n",
    "#run script for creating 90-10 dataset\n",
    "ov_9010.overlay_90_10_creation()"
   ]
  },
  {
   "cell_type": "markdown",
   "metadata": {},
   "source": [
    "You can download the extracted features for the 50-50 dataset from [here](https://dtudk-my.sharepoint.com/personal/s134416_win_dtu_dk/_layouts/15/guestaccess.aspx?folderid=0dcb73b75951949c5af09ea01921dad9b&authkey=AfCysDQgSasEvzjurBnbqaY&e=54f790634d934ee18dc83c19ea540b96)\n",
    "\n",
    "You can download the extracted features for the 90-10 dataset from [here](https://mega.nz/#F!IbpCSDgK!ZDecPNNqeDowBm_CWz2hPQ)\n",
    "\n",
    "A sample of the actual datasets created (just one folder, with the same organization paths as in the scripts in the github repo) can be downloaded from [here](https://mega.nz/#!EeBQBYKJ!bIazdBTkCgvHSP-10Tj2kL4Px-jQaKf1S1gMN9ssC8A)"
   ]
  },
  {
   "cell_type": "markdown",
   "metadata": {
    "colab_type": "text",
    "id": "417AeO6RqJhN"
   },
   "source": [
    "# 2. Single label model\n"
   ]
  },
  {
   "cell_type": "code",
   "execution_count": 4,
   "metadata": {
    "colab": {
     "autoexec": {
      "startup": false,
      "wait_interval": 0
     },
     "base_uri": "https://localhost:8080/",
     "height": 231,
     "output_extras": [
      {
       "item_id": 1
      }
     ]
    },
    "colab_type": "code",
    "collapsed": true,
    "executionInfo": {
     "elapsed": 2381,
     "status": "error",
     "timestamp": 1514924631919,
     "user": {
      "displayName": "Salik Lennert Pedersen",
      "photoUrl": "//lh4.googleusercontent.com/-Z3SSEzjYCpM/AAAAAAAAAAI/AAAAAAAAGaQ/vjwyepBNpJY/s50-c-k-no/photo.jpg",
      "userId": "109518245730669676524"
     },
     "user_tz": -60
    },
    "id": "wNSFpf3efPaW",
    "outputId": "88daa6ab-6c56-4d0b-82cd-8f597d28595b"
   },
   "outputs": [],
   "source": [
    "from keras.models import Sequential\n",
    "from keras.layers.core import Dense, Activation, Dropout, Flatten\n",
    "from keras.layers import Conv2D, BatchNormalization\n",
    "from keras.layers import MaxPooling2D\n",
    "from keras import regularizers, initializers\n",
    "from keras.optimizers import sgd\n",
    "from keras import backend as K\n",
    "\n",
    "def uniform(scale):\n",
    "        return initializers.uniform(minval=-scale, maxval=scale)\n",
    "\n",
    "def normal(stdev):\n",
    "        return initializers.normal(stddev=stdev)\n",
    "def constant(const):\n",
    "        return initializers.constant(value=const)\n",
    "def piczak_CNN(input_dim, output_dim,\n",
    "        activation='relu',\n",
    "        metrics=\"accuracy\", loss='categorical_crossentropy'):\n",
    "    \"\"\"\n",
    "    This method returns a keras model describing Piczak implementation.\n",
    "\n",
    "    From Piczak:\n",
    "    The first convolutional ReLU layer consisted of 80 filters\n",
    "    of rectangular shape (57x6 size, 1x1 stride) allowing\n",
    "    for slight frequency invariance. Max-pooling was applied\n",
    "    with a pool shape of 4x3 and stride of 1x3\n",
    "    Original implementation in pylearn2 can be found here:\n",
    "    https://github.com/karoldvl/paper-2015-esc-convnet/blob/master/Code/_Networks/Net-DoubleConv.ipynb\n",
    "    \"\"\"\n",
    "    l2_param = 0.01\n",
    "    model = Sequential()\n",
    "    model.add(Conv2D(80, kernel_size=(input_dim[0] - 3, 6), strides=(1, 1),\n",
    "                     activation=activation,\n",
    "                     input_shape=input_dim,\n",
    "                     kernel_initializer=uniform(0.001),\n",
    "                     bias_initializer=constant(0.1),\n",
    "                     kernel_regularizer=regularizers.l2(l2_param)))\n",
    "\n",
    "    model.add(MaxPooling2D(pool_size=(4, 3), strides=(1, 3)))\n",
    "    model.add(Dropout(0.75))\n",
    "\n",
    "    model.add(Conv2D(80, kernel_size=(1, 3), strides=(1, 1),\n",
    "                     activation=activation,\n",
    "                     kernel_initializer=uniform(0.1),\n",
    "                     kernel_regularizer=regularizers.l2(l2_param)))\n",
    "\n",
    "    model.add(MaxPooling2D(pool_size=(1, 3), strides=(1, 3)))\n",
    "\n",
    "    model.add(Flatten())\n",
    "\n",
    "    # Layer 1\n",
    "    model.add(Dense(5000, kernel_initializer=normal(0.01), kernel_regularizer=regularizers.l2(l2_param)))\n",
    "    model.add(Activation('relu'))\n",
    "    model.add(Dropout(0.75))\n",
    "\n",
    "    # layer 2\n",
    "    model.add(Dense(5000, kernel_initializer=normal(0.01), kernel_regularizer=regularizers.l2(l2_param)))\n",
    "    model.add(Activation('relu'))\n",
    "    model.add(Dropout(0.75))\n",
    "\n",
    "    # layer\n",
    "    model.add(Dense(output_dim, kernel_initializer=normal(0.01), kernel_regularizer=regularizers.l2(l2_param)))\n",
    "    model.add(Activation('softmax'))\n",
    "\n",
    "    if input_dim[1] == 41:\n",
    "        optimizer = sgd(lr=0.002, momentum=0.9, nesterov=True)\n",
    "    else:\n",
    "        if input_dim[1] == 101:\n",
    "            optimizer = sgd(lr=0.01, momentum=0.9, nesterov=True)\n",
    "        else:\n",
    "            raise ValueError(\"Segment must either have 41 or 101 frames\")\n",
    "\n",
    "    model.compile(loss=loss,\n",
    "                  optimizer=optimizer,\n",
    "                  metrics=[metrics])\n",
    "\n",
    "    return model\n",
    "  "
   ]
  },
  {
   "cell_type": "markdown",
   "metadata": {
    "colab_type": "text",
    "id": "OH3cfbfwfTfo"
   },
   "source": [
    "## 2.1 Cross Validation\n",
    "For each model (i.e. short60, long60, short200, long200) we ran 10-fold cross-validation, using eight folders as training data, one folder as validation set and one folder as test set. "
   ]
  },
  {
   "cell_type": "code",
   "execution_count": 6,
   "metadata": {
    "colab": {
     "autoexec": {
      "startup": false,
      "wait_interval": 0
     }
    },
    "colab_type": "code",
    "id": "UxhJ2SgRqJhO"
   },
   "outputs": [
    {
     "name": "stdout",
     "output_type": "stream",
     "text": [
      "Run 10: test folder is fold10, validation folder is fold9\n",
      "Data prep completed\n",
      "Model built\n",
      "_________________________________________________________________\n",
      "Layer (type)                 Output Shape              Param #   \n",
      "=================================================================\n",
      "conv2d_3 (Conv2D)            (None, 4, 96, 80)         54800     \n",
      "_________________________________________________________________\n",
      "max_pooling2d_3 (MaxPooling2 (None, 1, 32, 80)         0         \n",
      "_________________________________________________________________\n",
      "dropout_4 (Dropout)          (None, 1, 32, 80)         0         \n",
      "_________________________________________________________________\n",
      "conv2d_4 (Conv2D)            (None, 1, 30, 80)         19280     \n",
      "_________________________________________________________________\n",
      "max_pooling2d_4 (MaxPooling2 (None, 1, 10, 80)         0         \n",
      "_________________________________________________________________\n",
      "flatten_2 (Flatten)          (None, 800)               0         \n",
      "_________________________________________________________________\n",
      "dense_4 (Dense)              (None, 5000)              4005000   \n",
      "_________________________________________________________________\n",
      "activation_4 (Activation)    (None, 5000)              0         \n",
      "_________________________________________________________________\n",
      "dropout_5 (Dropout)          (None, 5000)              0         \n",
      "_________________________________________________________________\n",
      "dense_5 (Dense)              (None, 5000)              25005000  \n",
      "_________________________________________________________________\n",
      "activation_5 (Activation)    (None, 5000)              0         \n",
      "_________________________________________________________________\n",
      "dropout_6 (Dropout)          (None, 5000)              0         \n",
      "_________________________________________________________________\n",
      "dense_6 (Dense)              (None, 10)                50010     \n",
      "_________________________________________________________________\n",
      "activation_6 (Activation)    (None, 10)                0         \n",
      "=================================================================\n",
      "Total params: 29,134,090\n",
      "Trainable params: 29,134,090\n",
      "Non-trainable params: 0\n",
      "_________________________________________________________________\n",
      "Train on 55394 samples, validate on 6449 samples\n",
      "Epoch 1/150\n",
      " - 16s - loss: 29.5329 - acc: 0.1406 - val_loss: 26.5129 - val_acc: 0.2802\n",
      "Epoch 2/150\n",
      " - 14s - loss: 23.7256 - acc: 0.3417 - val_loss: 21.1517 - val_acc: 0.2897\n",
      "Epoch 3/150\n",
      " - 14s - loss: 18.9384 - acc: 0.4652 - val_loss: 17.0408 - val_acc: 0.5072\n",
      "Epoch 4/150\n",
      " - 14s - loss: 15.2526 - acc: 0.5235 - val_loss: 13.8127 - val_acc: 0.5512\n",
      "Epoch 5/150\n",
      " - 14s - loss: 12.3574 - acc: 0.5616 - val_loss: 11.3436 - val_acc: 0.5196\n",
      "Epoch 6/150\n",
      " - 14s - loss: 10.0521 - acc: 0.6018 - val_loss: 9.2970 - val_acc: 0.5260\n",
      "Epoch 7/150\n",
      " - 14s - loss: 8.2230 - acc: 0.6302 - val_loss: 7.8228 - val_acc: 0.5379\n",
      "Epoch 8/150\n",
      " - 14s - loss: 6.7595 - acc: 0.6620 - val_loss: 6.3479 - val_acc: 0.5886\n",
      "Epoch 9/150\n",
      " - 14s - loss: 5.5871 - acc: 0.6839 - val_loss: 5.5168 - val_acc: 0.5486\n",
      "Epoch 10/150\n",
      " - 14s - loss: 4.6614 - acc: 0.6989 - val_loss: 4.6186 - val_acc: 0.5466\n",
      "Epoch 11/150\n",
      " - 14s - loss: 3.9290 - acc: 0.7118 - val_loss: 3.8936 - val_acc: 0.6350\n",
      "Epoch 12/150\n",
      " - 14s - loss: 3.3333 - acc: 0.7259 - val_loss: 3.4188 - val_acc: 0.5950\n",
      "Epoch 13/150\n",
      " - 14s - loss: 2.8789 - acc: 0.7290 - val_loss: 3.1183 - val_acc: 0.5864\n",
      "Epoch 14/150\n",
      " - 14s - loss: 2.4808 - acc: 0.7442 - val_loss: 2.6854 - val_acc: 0.6269\n",
      "Epoch 15/150\n",
      " - 14s - loss: 2.1779 - acc: 0.7532 - val_loss: 2.5401 - val_acc: 0.6156\n",
      "Epoch 16/150\n",
      " - 14s - loss: 1.9507 - acc: 0.7592 - val_loss: 2.2671 - val_acc: 0.6190\n",
      "Epoch 17/150\n",
      " - 14s - loss: 1.7363 - acc: 0.7712 - val_loss: 2.1574 - val_acc: 0.6071\n",
      "Epoch 18/150\n",
      " - 14s - loss: 1.5982 - acc: 0.7723 - val_loss: 1.9580 - val_acc: 0.6341\n",
      "Epoch 19/150\n",
      " - 14s - loss: 1.4465 - acc: 0.7904 - val_loss: 1.8768 - val_acc: 0.6258\n",
      "Epoch 20/150\n",
      " - 14s - loss: 1.3770 - acc: 0.7852 - val_loss: 1.8512 - val_acc: 0.6049\n",
      "Epoch 21/150\n",
      " - 14s - loss: 1.2531 - acc: 0.8044 - val_loss: 1.7198 - val_acc: 0.6359\n",
      "Epoch 22/150\n",
      " - 14s - loss: 1.2136 - acc: 0.8013 - val_loss: 1.7337 - val_acc: 0.6285\n",
      "Epoch 23/150\n",
      " - 14s - loss: 1.1524 - acc: 0.8066 - val_loss: 1.6942 - val_acc: 0.6311\n",
      "Epoch 24/150\n",
      " - 14s - loss: 1.1014 - acc: 0.8146 - val_loss: 1.5955 - val_acc: 0.6542\n",
      "Epoch 25/150\n",
      " - 14s - loss: 1.0482 - acc: 0.8239 - val_loss: 1.5063 - val_acc: 0.6700\n",
      "Epoch 26/150\n",
      " - 14s - loss: 1.0284 - acc: 0.8250 - val_loss: 1.5137 - val_acc: 0.6477\n",
      "Epoch 27/150\n",
      " - 14s - loss: 1.0402 - acc: 0.8144 - val_loss: 1.5396 - val_acc: 0.6486\n",
      "Epoch 28/150\n",
      " - 14s - loss: 0.9825 - acc: 0.8323 - val_loss: 1.5131 - val_acc: 0.6575\n",
      "Epoch 29/150\n",
      " - 14s - loss: 0.9620 - acc: 0.8371 - val_loss: 1.4850 - val_acc: 0.6482\n",
      "Epoch 30/150\n",
      " - 14s - loss: 0.9664 - acc: 0.8306 - val_loss: 1.5461 - val_acc: 0.6519\n",
      "Epoch 31/150\n",
      " - 14s - loss: 0.9406 - acc: 0.8397 - val_loss: 1.6520 - val_acc: 0.6382\n",
      "Epoch 32/150\n",
      " - 14s - loss: 0.9177 - acc: 0.8458 - val_loss: 1.4501 - val_acc: 0.6618\n",
      "Epoch 33/150\n",
      " - 14s - loss: 0.9199 - acc: 0.8429 - val_loss: 1.5275 - val_acc: 0.6533\n",
      "Epoch 34/150\n",
      " - 14s - loss: 0.9021 - acc: 0.8481 - val_loss: 1.4221 - val_acc: 0.6862\n",
      "Epoch 35/150\n",
      " - 14s - loss: 0.9170 - acc: 0.8436 - val_loss: 1.4891 - val_acc: 0.6596\n",
      "Epoch 36/150\n",
      " - 15s - loss: 0.8850 - acc: 0.8549 - val_loss: 1.4437 - val_acc: 0.6601\n",
      "Epoch 37/150\n",
      " - 15s - loss: 0.8939 - acc: 0.8512 - val_loss: 1.4462 - val_acc: 0.6595\n",
      "Epoch 38/150\n",
      " - 14s - loss: 0.8961 - acc: 0.8503 - val_loss: 1.4466 - val_acc: 0.6606\n",
      "Epoch 39/150\n",
      " - 15s - loss: 0.8877 - acc: 0.8555 - val_loss: 1.4461 - val_acc: 0.6759\n",
      "Epoch 40/150\n",
      " - 14s - loss: 0.8765 - acc: 0.8588 - val_loss: 1.4050 - val_acc: 0.6634\n",
      "Epoch 41/150\n",
      " - 14s - loss: 0.8689 - acc: 0.8583 - val_loss: 1.5065 - val_acc: 0.6693\n",
      "Epoch 42/150\n",
      " - 23s - loss: 0.9008 - acc: 0.8480 - val_loss: 1.3926 - val_acc: 0.6843\n",
      "Epoch 43/150\n",
      " - 21s - loss: 0.8633 - acc: 0.8602 - val_loss: 1.4415 - val_acc: 0.6648\n",
      "Epoch 44/150\n",
      " - 19s - loss: 0.8632 - acc: 0.8628 - val_loss: 1.4899 - val_acc: 0.6579\n",
      "Epoch 45/150\n",
      " - 19s - loss: 0.8764 - acc: 0.8564 - val_loss: 1.4567 - val_acc: 0.6627\n",
      "Epoch 46/150\n",
      " - 19s - loss: 0.9757 - acc: 0.8325 - val_loss: 1.4077 - val_acc: 0.6770\n",
      "Epoch 47/150\n",
      " - 19s - loss: 0.8360 - acc: 0.8728 - val_loss: 1.6017 - val_acc: 0.6449\n",
      "Epoch 48/150\n",
      " - 19s - loss: 0.8557 - acc: 0.8629 - val_loss: 1.6386 - val_acc: 0.6198\n",
      "Epoch 49/150\n",
      " - 19s - loss: 0.8742 - acc: 0.8606 - val_loss: 1.4241 - val_acc: 0.6651\n",
      "Epoch 50/150\n",
      " - 19s - loss: 0.8561 - acc: 0.8659 - val_loss: 1.3786 - val_acc: 0.6925\n",
      "Epoch 51/150\n",
      " - 29s - loss: 0.8362 - acc: 0.8709 - val_loss: 1.7474 - val_acc: 0.6441\n",
      "Epoch 52/150\n",
      " - 19s - loss: 0.8898 - acc: 0.8552 - val_loss: 1.4653 - val_acc: 0.6683\n",
      "Epoch 53/150\n",
      " - 19s - loss: 0.9444 - acc: 0.8409 - val_loss: 1.4052 - val_acc: 0.6660\n",
      "Epoch 54/150\n",
      " - 19s - loss: 0.8307 - acc: 0.8755 - val_loss: 1.5170 - val_acc: 0.6494\n",
      "Epoch 55/150\n",
      " - 19s - loss: 0.8324 - acc: 0.8749 - val_loss: 1.4290 - val_acc: 0.6739\n",
      "Epoch 56/150\n",
      " - 19s - loss: 0.8604 - acc: 0.8631 - val_loss: 1.4729 - val_acc: 0.6586\n",
      "Epoch 57/150\n",
      " - 19s - loss: 0.8160 - acc: 0.8787 - val_loss: 1.5148 - val_acc: 0.6502\n",
      "Epoch 58/150\n",
      " - 19s - loss: 0.9570 - acc: 0.8415 - val_loss: 1.4824 - val_acc: 0.6477\n",
      "Epoch 59/150\n",
      " - 19s - loss: 0.8394 - acc: 0.8741 - val_loss: 1.5202 - val_acc: 0.6559\n",
      "Epoch 60/150\n",
      " - 19s - loss: 0.8199 - acc: 0.8793 - val_loss: 1.4456 - val_acc: 0.6776\n",
      "Epoch 00060: early stopping\n",
      "Model trained\n",
      "loss: 1.3314618381606724, test-acc: 0.737906905993307\n",
      "Average performance after cross-validation: 73.79% (+/- 0.00%)\n"
     ]
    }
   ],
   "source": [
    "from preprocessor import preprocessor\n",
    "from keras.callbacks import TensorBoard, EarlyStopping\n",
    "import numpy as np\n",
    "from keras import backend as K\n",
    "import utils\n",
    "\n",
    "# Define classes (for confusion matrix)\n",
    "classes = classes = ['air_conditioner', 'car_horn', 'children_playing', 'dog_bark', 'drilling', 'engine_idling', 'gun_shot', 'jackhammer', 'siren', 'street_music']\n",
    "\n",
    "epochs = 150\n",
    "load_path='extracted/long_60'\n",
    "train_dirs = []\n",
    "\n",
    "n_folders = 10\n",
    "for i in range(1, n_folders + 1):\n",
    "    train_dirs.append('fold{0}'.format(i))\n",
    "\n",
    "cvscores = []\n",
    "#for folds in ((10, 1), (1, 2), (2, 3), (3, 4), (4, 5), (5, 6), (6, 7), (7, 8), (8, 9), (9, 10)):\n",
    "for folds in [(9, 10)]: #Train only a single fold just for show \n",
    "    val_fold = 'fold' + str(folds[0])\n",
    "    test_fold= 'fold' + str(folds[1])\n",
    "    # Remove validation and test from train\n",
    "    train_dirs.remove(val_fold)\n",
    "    train_dirs.remove(test_fold)\n",
    "\n",
    "    print(\"Run {0}: test folder is fold{0}\".format(folds[1]) + \", validation folder is fold{0}\".format(folds[0]))\n",
    "\n",
    "    tb = TensorBoard(log_dir='./TensorBoard/long_60/' + 'run{0}'.format(folds[1]))\n",
    "    es = EarlyStopping(patience=10, verbose=1)\n",
    "\n",
    "    pp = preprocessor()\n",
    "    pp.load_extracted_fts_lbs(load_path=load_path, train_dirs=train_dirs, test_fold=test_fold, val_fold=val_fold)   \n",
    "    print(\"Data prep completed\")\n",
    "\n",
    "    model = piczak_CNN(input_dim=pp.train_x[0].shape, output_dim=pp.train_y.shape[1])\n",
    "    print(\"Model built\")\n",
    "    model.summary()\n",
    "    model.fit(pp.train_x, pp.train_y, validation_data=[pp.val_x, pp.val_y], epochs=epochs,\n",
    "               batch_size=1000, verbose=2, callbacks=[es, tb])\n",
    "    print(\"Model trained\")\n",
    "\n",
    "    # Save the trained model\n",
    "    output_model_file = 'models/long60_' + str(epochs) + '_' + str(folds) + '.h5'\n",
    "    model.save(output_model_file)\n",
    "    scores = model.evaluate(pp.test_x, pp.test_y, verbose=0)\n",
    "    print(\"loss: {0}, test-acc: {1}\".format(scores[0], scores[1]))                                                                     \n",
    "    cvscores.append(scores[1] * 100)      \n",
    "    # Remove model from memory\n",
    "    K.clear_session()\n",
    "    # Add the validation and test again for the next run.\n",
    "    train_dirs.append(val_fold)\n",
    "    train_dirs.append(test_fold)\n",
    "print(\"Average performance after cross-validation: %.2f%% (+/- %.2f%%)\" % (np.mean(cvscores), np.std(cvscores)))"
   ]
  },
  {
   "cell_type": "markdown",
   "metadata": {
    "colab_type": "text",
    "id": "639nBx0QqJhR"
   },
   "source": [
    "If you want to see the training process, you can start tensorboard by running this command from the root of the project. \n",
    "\n",
    "$\\texttt{tensorboard --logdir='TensorBoard'}$"
   ]
  },
  {
   "cell_type": "markdown",
   "metadata": {
    "colab_type": "text",
    "id": "EV6QFuRGqJhR"
   },
   "source": [
    "Below you can see our final results."
   ]
  },
  {
   "cell_type": "code",
   "execution_count": 7,
   "metadata": {
    "colab": {
     "autoexec": {
      "startup": false,
      "wait_interval": 0
     }
    },
    "colab_type": "code",
    "id": "Irr-TciRqJhS"
   },
   "outputs": [
    {
     "data": {
      "text/html": [
       "<div>\n",
       "<style>\n",
       "    .dataframe thead tr:only-child th {\n",
       "        text-align: right;\n",
       "    }\n",
       "\n",
       "    .dataframe thead th {\n",
       "        text-align: left;\n",
       "    }\n",
       "\n",
       "    .dataframe tbody tr th {\n",
       "        vertical-align: top;\n",
       "    }\n",
       "</style>\n",
       "<table border=\"1\" class=\"dataframe\">\n",
       "  <thead>\n",
       "    <tr style=\"text-align: right;\">\n",
       "      <th></th>\n",
       "      <th>run1</th>\n",
       "      <th>run2</th>\n",
       "      <th>run3</th>\n",
       "      <th>run4</th>\n",
       "      <th>run5</th>\n",
       "      <th>run6</th>\n",
       "      <th>run7</th>\n",
       "      <th>run8</th>\n",
       "      <th>run9</th>\n",
       "      <th>run10</th>\n",
       "      <th>Average</th>\n",
       "      <th>StDev</th>\n",
       "    </tr>\n",
       "  </thead>\n",
       "  <tbody>\n",
       "    <tr>\n",
       "      <th>short_60</th>\n",
       "      <td>0.631746</td>\n",
       "      <td>0.524219</td>\n",
       "      <td>0.519109</td>\n",
       "      <td>0.614269</td>\n",
       "      <td>0.623094</td>\n",
       "      <td>0.550229</td>\n",
       "      <td>0.555519</td>\n",
       "      <td>0.587509</td>\n",
       "      <td>0.647792</td>\n",
       "      <td>0.675970</td>\n",
       "      <td>0.583721</td>\n",
       "      <td>0.048142</td>\n",
       "    </tr>\n",
       "    <tr>\n",
       "      <th>long_60</th>\n",
       "      <td>0.690345</td>\n",
       "      <td>0.671870</td>\n",
       "      <td>0.518753</td>\n",
       "      <td>0.651414</td>\n",
       "      <td>0.683282</td>\n",
       "      <td>0.515301</td>\n",
       "      <td>0.623859</td>\n",
       "      <td>0.548439</td>\n",
       "      <td>0.703675</td>\n",
       "      <td>0.737907</td>\n",
       "      <td>0.634484</td>\n",
       "      <td>0.080128</td>\n",
       "    </tr>\n",
       "    <tr>\n",
       "      <th>short_200</th>\n",
       "      <td>0.568919</td>\n",
       "      <td>0.584927</td>\n",
       "      <td>0.511141</td>\n",
       "      <td>0.590961</td>\n",
       "      <td>0.631396</td>\n",
       "      <td>0.576656</td>\n",
       "      <td>0.583974</td>\n",
       "      <td>0.660578</td>\n",
       "      <td>0.658915</td>\n",
       "      <td>0.646573</td>\n",
       "      <td>0.601404</td>\n",
       "      <td>0.047432</td>\n",
       "    </tr>\n",
       "    <tr>\n",
       "      <th>long_200</th>\n",
       "      <td>0.639606</td>\n",
       "      <td>0.586811</td>\n",
       "      <td>0.563517</td>\n",
       "      <td>0.670743</td>\n",
       "      <td>0.634963</td>\n",
       "      <td>0.564297</td>\n",
       "      <td>0.609190</td>\n",
       "      <td>0.704243</td>\n",
       "      <td>0.675298</td>\n",
       "      <td>0.601156</td>\n",
       "      <td>0.624982</td>\n",
       "      <td>0.048254</td>\n",
       "    </tr>\n",
       "  </tbody>\n",
       "</table>\n",
       "</div>"
      ],
      "text/plain": [
       "               run1      run2      run3      run4      run5      run6  \\\n",
       "short_60   0.631746  0.524219  0.519109  0.614269  0.623094  0.550229   \n",
       "long_60    0.690345  0.671870  0.518753  0.651414  0.683282  0.515301   \n",
       "short_200  0.568919  0.584927  0.511141  0.590961  0.631396  0.576656   \n",
       "long_200   0.639606  0.586811  0.563517  0.670743  0.634963  0.564297   \n",
       "\n",
       "               run7      run8      run9     run10   Average     StDev  \n",
       "short_60   0.555519  0.587509  0.647792  0.675970  0.583721  0.048142  \n",
       "long_60    0.623859  0.548439  0.703675  0.737907  0.634484  0.080128  \n",
       "short_200  0.583974  0.660578  0.658915  0.646573  0.601404  0.047432  \n",
       "long_200   0.609190  0.704243  0.675298  0.601156  0.624982  0.048254  "
      ]
     },
     "execution_count": 7,
     "metadata": {},
     "output_type": "execute_result"
    }
   ],
   "source": [
    "import pandas as pd\n",
    "\n",
    "df = pd.read_excel('logs/piczak_cv_results.xlsx', sheetname=1)\n",
    "df.head()"
   ]
  },
  {
   "cell_type": "markdown",
   "metadata": {
    "colab_type": "text",
    "id": "N5DHqjkXqJhd"
   },
   "source": [
    "If you haven't run the cross-validation, you can download the trained models for the 101 frames and 60 bands [here](https://dtudk-my.sharepoint.com/personal/s161162_win_dtu_dk/_layouts/15/guestaccess.aspx?folderid=0cf9ad23411344bcc8bb22295fb1747a8&authkey=AU73y6XMKpwbsFP0cOQ4gA4&e=6e503350a63544a58cb03a1b7edec5a4)"
   ]
  },
  {
   "cell_type": "markdown",
   "metadata": {
    "colab_type": "text",
    "id": "VlOoPw1VqJhZ"
   },
   "source": [
    "## 2.1 Confusion Matrix\n",
    "The confusion matrix show below is of the best performing model (run 10) from the 101 frames, 60 bands model. This run is also the run shown above."
   ]
  },
  {
   "cell_type": "code",
   "execution_count": 5,
   "metadata": {
    "colab": {
     "autoexec": {
      "startup": false,
      "wait_interval": 0
     }
    },
    "colab_type": "code",
    "id": "D3cIX4M7qJha"
   },
   "outputs": [
    {
     "name": "stdout",
     "output_type": "stream",
     "text": [
      "Confusion matrix, without normalization\n"
     ]
    },
    {
     "data": {
      "image/png": "[encoded data removed]",
      "text/plain": [
       "<matplotlib.figure.Figure at 0x1e584b7d9b0>"
      ]
     },
     "metadata": {},
     "output_type": "display_data"
    }
   ],
   "source": [
    "import matplotlib.pyplot as plt\n",
    "%matplotlib inline\n",
    "plt.rcParams['figure.figsize'] = (7.0, 7.0)\n",
    "import confusion_matrix as cm\n",
    "\n",
    "model_filename = 'models/long60_150_(9, 10).h5'\n",
    "load_path = 'extracted/long_60'\n",
    "\n",
    "cm.plot_confusion_matrix(model_filename, load_path, save=True)\n",
    "\n",
    "plt.draw()"
   ]
  },
  {
   "cell_type": "markdown",
   "metadata": {
    "colab_type": "text",
    "id": "OKGt8casqJhe"
   },
   "source": [
    "## 2.2 Boxplot\n",
    "Below is the boxplots of the different runs showing that on average the longer variant (101 frames) perform better than the short variant (41 frames). Furthermore we also see that increasing the resolution of the mel-spectrograms does not increase performance using the described model."
   ]
  },
  {
   "cell_type": "code",
   "execution_count": 6,
   "metadata": {
    "colab": {
     "autoexec": {
      "startup": false,
      "wait_interval": 0
     }
    },
    "colab_type": "code",
    "id": "6PRBSTTfqJhg"
   },
   "outputs": [
    {
     "data": {
      "image/png": "[encoded data removed]",
      "text/plain": [
       "<matplotlib.figure.Figure at 0x1e584e4fe48>"
      ]
     },
     "metadata": {},
     "output_type": "display_data"
    }
   ],
   "source": [
    "import boxplot as bxplt\n",
    "\n",
    "file_name = 'logs/piczak_cv_results.xlsx'\n",
    "colors = ['lightgreen', 'lightgreen', 'lightblue', 'lightblue']\n",
    "labels = ['short60', 'long60', 'short200', 'long200']\n",
    "\n",
    "bxplt.draw_boxplot(file_name, colors, labels)"
   ]
  },
  {
   "cell_type": "markdown",
   "metadata": {},
   "source": [
    "## 2.3 Boxplot: -30dB Overlaying sound \n",
    "Below is the boxplot showing the results of the singlelabel performance on overlaying sounds.\n",
    "We clearly see that by training on the overlaying sounds the performance when testing on overlaying sounds increase as expected. Furthermore we see that the performance after training on the overlaying sounds with only a single label (the loudest) the performance decreases when testing on non overlaying sounds. We believe that this decrease is due to wrongly labelling the lower of the two sounds, thereby making the network learn a wrong representation of the correct sound."
   ]
  },
  {
   "cell_type": "code",
   "execution_count": 9,
   "metadata": {
    "colab": {
     "autoexec": {
      "startup": false,
      "wait_interval": 0
     }
    },
    "colab_type": "code",
    "id": "f6BDva3SqJhm"
   },
   "outputs": [
    {
     "data": {
      "image/png": "[encoded data removed]",
      "text/plain": [
       "<matplotlib.figure.Figure at 0x1e582543dd8>"
      ]
     },
     "metadata": {},
     "output_type": "display_data"
    }
   ],
   "source": [
    "file_name = 'logs/overlay_results.xlsx'\n",
    "colors = ['lightblue', 'lightgreen','lightblue', 'lightgreen']\n",
    "labels = ['Train: Single - Test: Overlay', 'Train: Single - Test: Single','Train: Single + Overlay - Test: Overlay', 'Train: Single + Overlay - Test: Single']\n",
    "plt.rcParams['figure.figsize'] = (15.0, 7.0)\n",
    "bxplt.draw_boxplot(file_name, colors, labels)"
   ]
  },
  {
   "cell_type": "markdown",
   "metadata": {
    "colab_type": "text",
    "id": "FBvIKUmMXoqo"
   },
   "source": [
    "# Multilabel classification\n",
    "\n",
    "For the multilabel classification task we adjusted the model by changing the output layer from softmax to sigmoid, and using binary cross-entropy as loss function. "
   ]
  },
  {
   "cell_type": "code",
   "execution_count": 1,
   "metadata": {
    "colab": {
     "autoexec": {
      "startup": false,
      "wait_interval": 0
     },
     "base_uri": "https://localhost:8080/",
     "height": 119,
     "output_extras": [
      {
       "item_id": 2
      }
     ]
    },
    "colab_type": "code",
    "executionInfo": {
     "elapsed": 3431,
     "status": "ok",
     "timestamp": 1514922246643,
     "user": {
      "displayName": "Andreas Rømer Hjorth",
      "photoUrl": "https://lh3.googleusercontent.com/a/default-user=s128",
      "userId": "112797143969792072358"
     },
     "user_tz": -60
    },
    "id": "T5uCRC61ZGkf",
    "outputId": "4fdf165b-4d34-4fa1-f9ed-1a9907ef75fc"
   },
   "outputs": [
    {
     "name": "stderr",
     "output_type": "stream",
     "text": [
      "Using TensorFlow backend.\n"
     ]
    },
    {
     "name": "stdout",
     "output_type": "stream",
     "text": [
      "done\n"
     ]
    }
   ],
   "source": [
    "from keras.models import Sequential\n",
    "from keras.layers.core import Dense, Activation, Dropout, Flatten\n",
    "from keras.layers import Conv2D, BatchNormalization\n",
    "from keras.layers import MaxPooling2D\n",
    "from keras import regularizers, initializers\n",
    "from keras.optimizers import sgd\n",
    "from keras import backend as K\n",
    "\n",
    "def piczak_CNN_multi(input_dim, output_dim,\n",
    "               activation='relu', optimizer=\"adam\",\n",
    "               metrics=\"accuracy\", loss='binary_crossentropy'):\n",
    "\n",
    "    model = Sequential()\n",
    "    # First convolutional layer\n",
    "    model.add(Conv2D(80, kernel_size=(57, 6,), strides=(1, 1),\n",
    "                     activation=None,\n",
    "                     input_shape=input_dim,\n",
    "                     kernel_regularizer=regularizers.l2(0.001)))\n",
    "\n",
    "    # Max pooling\n",
    "    model.add(MaxPooling2D(pool_size=(4, 3), strides=(1, 3)))\n",
    "    \n",
    "    # Added batchnormalization \n",
    "    model.add(BatchNormalization())\n",
    "    \n",
    "    model.add(Activation('relu'))\n",
    "    \n",
    "    # Dropout\n",
    "    model.add(Dropout(0.5))\n",
    "    \n",
    "    # Second convolutional layer\n",
    "    model.add(Conv2D(80, kernel_size=(1, 3), strides=(1, 1),\n",
    "                     activation=None,\n",
    "                     input_shape=input_dim))\n",
    "\n",
    "    # Maxpooling \n",
    "    model.add(MaxPooling2D(pool_size=(1, 3), strides=(1, 3)))\n",
    "    model.add(BatchNormalization())\n",
    "    model.add(Activation('relu'))\n",
    "    \n",
    "    # Flatten the representation to one dimension \n",
    "    model.add(Flatten())\n",
    "\n",
    "    # Fully connected layer 1\n",
    "    model.add(Dense(5000))\n",
    "    model.add(Dropout(0.5))\n",
    "    model.add(Activation('relu'))\n",
    "\n",
    "    # Fully connected layer 2\n",
    "    model.add(Dense(5000))\n",
    "    model.add(Dropout(0.5))\n",
    "    model.add(Activation('relu'))\n",
    "\n",
    "    # layer\n",
    "    model.add(Dense(output_dim))\n",
    "\n",
    "    # Sigmoid output layer\n",
    "    model.add(Activation('sigmoid'))\n",
    "    \n",
    "    # Functionality for printing the structure of the model\n",
    "    inp = model.input  # input placeholder\n",
    "    outputs = [layer.output for layer in model.layers]  # all layer outputs\n",
    "    functor = K.function([inp] + [K.learning_phase()], outputs)  # evaluation function\n",
    "\n",
    "    print(outputs)\n",
    "    print(functor)\n",
    "\n",
    "    model.compile(loss=loss,\n",
    "                  optimizer=optimizer,\n",
    "                  metrics=[metrics])\n",
    "\n",
    "    print(\"Model built\")\n",
    "\n",
    "    return model\n",
    "print(\"done\")  "
   ]
  },
  {
   "cell_type": "markdown",
   "metadata": {
    "colab_type": "text",
    "id": "l6yaUkoVnPAx"
   },
   "source": [
    "## Evaluation \n",
    "To evaluate the multilabel classifier we use F1-score and zero-one loss imported from scikit-learn."
   ]
  },
  {
   "cell_type": "code",
   "execution_count": 3,
   "metadata": {
    "colab": {
     "autoexec": {
      "startup": false,
      "wait_interval": 0
     },
     "base_uri": "https://localhost:8080/",
     "height": 537,
     "output_extras": [
      {
       "item_id": 5
      },
      {
       "item_id": 6
      }
     ]
    },
    "colab_type": "code",
    "collapsed": true,
    "executionInfo": {
     "elapsed": 3768,
     "status": "error",
     "timestamp": 1514926333147,
     "user": {
      "displayName": "Andreas Rømer Hjorth",
      "photoUrl": "https://lh3.googleusercontent.com/a/default-user=s128",
      "userId": "112797143969792072358"
     },
     "user_tz": -60
    },
    "id": "brAm9j2homcs",
    "outputId": "ba080051-6f8a-4d6e-e63c-4b0fb46674b5"
   },
   "outputs": [],
   "source": [
    "from sklearn.metrics import f1_score, hamming_loss, zero_one_loss\n",
    "import matplotlib.pyplot as plt\n",
    "from pandas_confusion import ConfusionMatrix\n",
    "import utils\n",
    "import numpy as np\n",
    "\n",
    "def evaluateModel(pp, preds, fold):\n",
    "    print(\"Evaluation\")\n",
    "    # ************ PROCESSING THE PREDICTIONS\n",
    "    \n",
    "    # Transforming predictions at threshold 0.5\n",
    "    preds[preds >= 0.5] = 1\n",
    "    preds[preds < 0.5] = 0\n",
    "    \n",
    "    print(\"F1 SCORE:\")\n",
    "    print(f1_score(pp.test_y, preds, average=None))\n",
    "    \n",
    "    print(\"Hamming Loss:\")\n",
    "    print(hamming_loss(pp.test_y, preds))\n",
    "    \n",
    "    print(\"Zero-one loss:\")\n",
    "    print(zero_one_loss(pp.test_y, preds))\n",
    "    \n",
    "    # Transforming labels into representation with all classes and combined classes\n",
    "    utils.classes_number_mapper()\n",
    "    y_test_preds = utils.from_plus_to_one_hot(np.array(pp.test_y))\n",
    "    preds_transf = utils.from_plus_to_one_hot(np.array(preds))\n",
    "    cm = ConfusionMatrix(np.array(y_test_preds).argmax(1), np.array(preds_transf).argmax(1))\n",
    "    ax = cm.plot()\n",
    "    ax.set_xticklabels(utils.classes, rotation=\"vertical\")\n",
    "    ax.set_yticklabels(utils.classes)\n",
    "    plt.savefig(\"conf_{0}.png\".format(fold))\n",
    "    "
   ]
  },
  {
   "cell_type": "markdown",
   "metadata": {
    "colab_type": "text",
    "id": "UjgF_Ozbajkh"
   },
   "source": [
    "As for the singlelabel classification task we applied the cross validation technique based on the folder structure of the dataset."
   ]
  },
  {
   "cell_type": "code",
   "execution_count": 4,
   "metadata": {
    "colab": {
     "autoexec": {
      "startup": false,
      "wait_interval": 0
     }
    },
    "colab_type": "code",
    "collapsed": true,
    "id": "_QbVl6BWaivK"
   },
   "outputs": [],
   "source": [
    "from keras.callbacks import TensorBoard, EarlyStopping\n",
    "from preprocessor import preprocessor\n",
    "import numpy as np\n",
    "from keras import backend as K\n",
    "\n",
    "def piczac_cross_validation(epochs, load_path):\n",
    "    train_dirs = []\n",
    "\n",
    "    n_folders = 10\n",
    "\n",
    "    for i in range(1, n_folders + 1):\n",
    "        # Appending names of the folders that we want to load files from\n",
    "        train_dirs.append('folder{0}_overlap'.format(i))\n",
    "\n",
    "    #for fold in ((10, 1), (1, 2), (2, 3), (3, 4), (4, 5), (5, 6), (6, 7), (7, 8), (8, 9), (9, 10)):\n",
    "    for fold in [(9, 10)]: #Train only a single fold just for show \n",
    "        \n",
    "        # selecting test and validation folder\n",
    "        val_fold = 'folder{0}_overlap'.format(fold[0])\n",
    "        test_fold = 'folder{0}_overlap'.format(fold[1])\n",
    "    \n",
    "        # Removing val_fold and test_fold to ensure that we do not train on any of this data\n",
    "        train_dirs.remove(val_fold)\n",
    "        train_dirs.remove(test_fold)\n",
    "\n",
    "        # Set parent dir to be the root location of the extracted features\n",
    "        pp = preprocessor(parent_dir='../../data/UrbanSound8K/audio')\n",
    "    \n",
    "        # Loading the extracted features\n",
    "        pp.load_extracted_fts_lbs(train_dirs=train_dirs, val_fold=val_fold, test_fold=test_fold, load_path=load_path)\n",
    "    \n",
    "        # Creating the model\n",
    "        model = piczak_CNN_multi(input_dim=pp.train_x[0].shape, output_dim=pp.train_y.shape[1])\n",
    "  \n",
    "        tb = TensorBoard(log_dir='./TensorBoard/' + 'overlap_run{0}'.format(fold[1]))\n",
    "        es = EarlyStopping(patience=10, verbose=1)\n",
    "\n",
    "        # Training the model\n",
    "        model.fit(pp.train_x, pp.train_y, validation_data=[pp.val_x, pp.val_y], epochs=epochs, batch_size=1000, verbose=2, callbacks=[tb, es])\n",
    "    \n",
    "        \n",
    "        # Save the trained model\n",
    "        output_model_file = 'multi5050' + str(epochs) + '_' + str(fold) + '.h5'\n",
    "        model.save(output_model_file)\n",
    "        \n",
    "        # Testing the model\n",
    "        preds = model.predict(pp.test_x)\n",
    "        \n",
    "        # evaluating the model predictions\n",
    "        evaluateModel(pp,preds, fold)\n",
    "        \n",
    "        # cleanup\n",
    "        K.clear_session()\n",
    "    \n",
    "        # Appending the folders such that they are present in train_dirs at the next fold\n",
    "        train_dirs.append(val_fold)\n",
    "        train_dirs.append(test_fold)\n"
   ]
  },
  {
   "cell_type": "code",
   "execution_count": 5,
   "metadata": {
    "colab": {
     "autoexec": {
      "startup": false,
      "wait_interval": 0
     },
     "base_uri": "https://localhost:8080/",
     "height": 231,
     "output_extras": [
      {
       "item_id": 1
      }
     ]
    },
    "colab_type": "code",
    "executionInfo": {
     "elapsed": 698,
     "status": "error",
     "timestamp": 1514922674308,
     "user": {
      "displayName": "Andreas Rømer Hjorth",
      "photoUrl": "https://lh3.googleusercontent.com/a/default-user=s128",
      "userId": "112797143969792072358"
     },
     "user_tz": -60
    },
    "id": "jxreWo1ZbCAL",
    "outputId": "82522729-f596-40b5-f6d6-e83b223fff88"
   },
   "outputs": [
    {
     "name": "stdout",
     "output_type": "stream",
     "text": [
      "main\n",
      "[<tf.Tensor 'conv2d_1/BiasAdd:0' shape=(?, 4, 36, 80) dtype=float32>, <tf.Tensor 'max_pooling2d_1/MaxPool:0' shape=(?, 1, 12, 80) dtype=float32>, <tf.Tensor 'batch_normalization_1/cond/Merge:0' shape=(?, 1, 12, 80) dtype=float32>, <tf.Tensor 'activation_1/Relu:0' shape=(?, 1, 12, 80) dtype=float32>, <tf.Tensor 'dropout_1/cond/Merge:0' shape=(?, 1, 12, 80) dtype=float32>, <tf.Tensor 'conv2d_2/BiasAdd:0' shape=(?, 1, 10, 80) dtype=float32>, <tf.Tensor 'max_pooling2d_2/MaxPool:0' shape=(?, 1, 3, 80) dtype=float32>, <tf.Tensor 'batch_normalization_2/cond/Merge:0' shape=(?, 1, 3, 80) dtype=float32>, <tf.Tensor 'activation_2/Relu:0' shape=(?, 1, 3, 80) dtype=float32>, <tf.Tensor 'flatten_1/Reshape:0' shape=(?, ?) dtype=float32>, <tf.Tensor 'dense_1/BiasAdd:0' shape=(?, 5000) dtype=float32>, <tf.Tensor 'dropout_2/cond/Merge:0' shape=(?, 5000) dtype=float32>, <tf.Tensor 'activation_3/Relu:0' shape=(?, 5000) dtype=float32>, <tf.Tensor 'dense_2/BiasAdd:0' shape=(?, 5000) dtype=float32>, <tf.Tensor 'dropout_3/cond/Merge:0' shape=(?, 5000) dtype=float32>, <tf.Tensor 'activation_4/Relu:0' shape=(?, 5000) dtype=float32>, <tf.Tensor 'dense_3/BiasAdd:0' shape=(?, 10) dtype=float32>, <tf.Tensor 'activation_5/Sigmoid:0' shape=(?, 10) dtype=float32>]\n",
      "<keras.backend.tensorflow_backend.Function object at 0x0000017F00451E10>\n",
      "Model built\n",
      "Train on 26209 samples, validate on 1994 samples\n",
      "Epoch 1/150\n",
      "19s - loss: 0.5277 - acc: 0.7896 - val_loss: 0.5861 - val_acc: 0.7410\n",
      "Epoch 2/150\n",
      "17s - loss: 0.4422 - acc: 0.8151 - val_loss: 0.5369 - val_acc: 0.7788\n",
      "Epoch 3/150\n",
      "17s - loss: 0.4117 - acc: 0.8298 - val_loss: 0.4759 - val_acc: 0.8013\n",
      "Epoch 4/150\n",
      "17s - loss: 0.3914 - acc: 0.8405 - val_loss: 0.4492 - val_acc: 0.8136\n",
      "Epoch 5/150\n",
      "18s - loss: 0.3763 - acc: 0.8489 - val_loss: 0.4365 - val_acc: 0.8236\n",
      "Epoch 6/150\n",
      "17s - loss: 0.3642 - acc: 0.8558 - val_loss: 0.4211 - val_acc: 0.8355\n",
      "Epoch 7/150\n",
      "18s - loss: 0.3526 - acc: 0.8613 - val_loss: 0.4241 - val_acc: 0.8233\n",
      "Epoch 8/150\n",
      "17s - loss: 0.3452 - acc: 0.8654 - val_loss: 0.4070 - val_acc: 0.8352\n",
      "Epoch 9/150\n",
      "17s - loss: 0.3387 - acc: 0.8680 - val_loss: 0.3936 - val_acc: 0.8391\n",
      "Epoch 10/150\n",
      "17s - loss: 0.3307 - acc: 0.8718 - val_loss: 0.3963 - val_acc: 0.8429\n",
      "Epoch 11/150\n",
      "17s - loss: 0.3279 - acc: 0.8722 - val_loss: 0.3918 - val_acc: 0.8491\n",
      "Epoch 12/150\n",
      "17s - loss: 0.3199 - acc: 0.8760 - val_loss: 0.4010 - val_acc: 0.8447\n",
      "Epoch 13/150\n",
      "17s - loss: 0.3136 - acc: 0.8783 - val_loss: 0.4053 - val_acc: 0.8439\n",
      "Epoch 14/150\n",
      "17s - loss: 0.3109 - acc: 0.8801 - val_loss: 0.4018 - val_acc: 0.8420\n",
      "Epoch 15/150\n",
      "17s - loss: 0.3062 - acc: 0.8818 - val_loss: 0.3836 - val_acc: 0.8558\n",
      "Epoch 16/150\n",
      "17s - loss: 0.3029 - acc: 0.8830 - val_loss: 0.3790 - val_acc: 0.8594\n",
      "Epoch 17/150\n",
      "18s - loss: 0.2976 - acc: 0.8856 - val_loss: 0.3823 - val_acc: 0.8599\n",
      "Epoch 18/150\n",
      "18s - loss: 0.2922 - acc: 0.8879 - val_loss: 0.3941 - val_acc: 0.8547\n",
      "Epoch 19/150\n",
      "17s - loss: 0.2915 - acc: 0.8884 - val_loss: 0.3864 - val_acc: 0.8599\n",
      "Epoch 20/150\n",
      "17s - loss: 0.2843 - acc: 0.8911 - val_loss: 0.3902 - val_acc: 0.8559\n",
      "Epoch 21/150\n",
      "17s - loss: 0.2862 - acc: 0.8899 - val_loss: 0.4036 - val_acc: 0.8543\n",
      "Epoch 22/150\n",
      "18s - loss: 0.2798 - acc: 0.8929 - val_loss: 0.4028 - val_acc: 0.8615\n",
      "Epoch 23/150\n",
      "17s - loss: 0.2754 - acc: 0.8944 - val_loss: 0.3977 - val_acc: 0.8588\n",
      "Epoch 24/150\n",
      "18s - loss: 0.2736 - acc: 0.8957 - val_loss: 0.4160 - val_acc: 0.8578\n",
      "Epoch 25/150\n",
      "17s - loss: 0.2684 - acc: 0.8975 - val_loss: 0.4092 - val_acc: 0.8590\n",
      "Epoch 26/150\n",
      "17s - loss: 0.2675 - acc: 0.8979 - val_loss: 0.4067 - val_acc: 0.8588\n",
      "Epoch 27/150\n",
      "17s - loss: 0.2654 - acc: 0.8985 - val_loss: 0.4049 - val_acc: 0.8620\n",
      "Epoch 00026: early stopping\n",
      "Evaluation\n",
      "F1 SCORE:\n",
      "[ 0.44237288  0.74496644  0.38110488  0.62167689  0.52207591  0.65855404\n",
      "  0.66342412  0.75081967  0.37271854  0.56046706]\n",
      "Hamming Loss:\n",
      "0.15009090909090908\n",
      "Zero-one loss:\n",
      "0.858484848485\n"
     ]
    }
   ],
   "source": [
    "import tensorflow as tf\n",
    "import utils # Utility script\n",
    "from keras import backend as K\n",
    "\n",
    "print(\"main\")\n",
    "\n",
    "# Setting up the utils functionality for creating a confusion matrix\n",
    "utils.classes_number_mapper()\n",
    "\n",
    "K.clear_session()\n",
    "# Running the cross validation method\n",
    "# Specify the load_path (root folder) in which the folders for the extracted features are stored\n",
    "load_path = \"../UrbanSound8K/audio/extracted_overlapping_50/audio_overlap\"\n",
    "piczac_cross_validation(150, load_path)\n"
   ]
  },
  {
   "cell_type": "markdown",
   "metadata": {
    "colab": {
     "autoexec": {
      "startup": false,
      "wait_interval": 0
     }
    },
    "colab_type": "code",
    "collapsed": true,
    "id": "6l537Vd--65w"
   },
   "source": [
    "#### Loading trained models\n",
    "In the previous cell we saved the trained model. <br>\n",
    "Having saved a model allows one to load the model and continue training on new data or testing the model.\n",
    "This will be demonstrated in the following code cell."
   ]
  },
  {
   "cell_type": "code",
   "execution_count": 6,
   "metadata": {},
   "outputs": [
    {
     "name": "stdout",
     "output_type": "stream",
     "text": [
      "model evaluation\n",
      "loss: 0.4039917779149431, test-acc: 0.8499091761039965\n",
      "Evaluation\n",
      "F1 SCORE:\n",
      "[ 0.44237288  0.74496644  0.38110488  0.62167689  0.52207591  0.65855404\n",
      "  0.66342412  0.75081967  0.37271854  0.56046706]\n",
      "Hamming Loss:\n",
      "0.15009090909090908\n",
      "Zero-one loss:\n",
      "0.858484848485\n"
     ]
    }
   ],
   "source": [
    "from keras.models import load_model\n",
    "from keras import backend as K\n",
    "import matplotlib.pyplot as plt\n",
    "import matplotlib.image as mpimg\n",
    "from preprocessor import preprocessor\n",
    "K.clear_session()\n",
    "def evaluateSavedModel():\n",
    "    \n",
    "    # Load the previously saved model\n",
    "    model = load_model(\"multi5050150_(9, 10).h5\")\n",
    "    \n",
    "    # Setup preprocessor for loading extracted features\n",
    "    pp = preprocessor(parent_dir='../UrbanSound8K/audio')\n",
    "    \n",
    "    \n",
    "    # extracted features that should be loaded to calculate mean and std values\n",
    "    train_dirs = [\"folder1_overlap\", \"folder2_overlap\", \"folder3_overlap\",\n",
    "                  \"folder4_overlap\", \"folder5_overlap\", \"folder6_overlap\",\n",
    "                  \"folder7_overlap\", \"folder8_overlap\"]\n",
    "\n",
    "    \n",
    "    # Load features\n",
    "    test_fold = \"folder10_overlap\"\n",
    "    val_fold = \"folder9_overlap\"\n",
    "    load_path = \"../UrbanSound8K/audio/extracted_overlapping_50/audio_overlap\"\n",
    "    \n",
    "    pp.load_extracted_fts_lbs(train_dirs=train_dirs, val_fold=val_fold, test_fold=test_fold, load_path=load_path)\n",
    "    \n",
    "    # To continue training on a model, we can fit to more training data\n",
    "    # model.fit(pp.train_x, pp.train_y,validation_split=.1, epochs=25,\n",
    "    #           batch_size=256, verbose=2, callbacks=[tb])\n",
    "\n",
    "\n",
    "\n",
    "    print(\"model evaluation\")\n",
    "    scores = model.evaluate(pp.test_x, pp.test_y, verbose=2)\n",
    "    print(\"loss: {0}, test-acc: {1}\".format(scores[0], scores[1]))\n",
    "\n",
    "    # Make predictions\n",
    "    preds = model.predict(pp.test_x)\n",
    "\n",
    "    # Evaluate predictions\n",
    "    evaluateModel(pp, preds, test_fold)\n",
    "\n",
    "evaluateSavedModel()"
   ]
  },
  {
   "cell_type": "markdown",
   "metadata": {},
   "source": [
    "The results show that we are predicting approximately 14% exact match. Furthermore, we can see from the F1-score of the individual classes that we are performing quite well for certain classes (1,3,5,6,7).<br>\n",
    "These results are also depicted in the confusion matrix."
   ]
  },
  {
   "cell_type": "markdown",
   "metadata": {},
   "source": [
    "![Confusionmatrix](conf_folder10_overlap.png)"
   ]
  },
  {
   "cell_type": "markdown",
   "metadata": {},
   "source": [
    "<b>The confusion matrix</b> for the multilabel classifier is constructed by having both the single labels and combined labels on the axis. This is such that we can recognize when the classifier predicts one of the two sound events. <br>\n",
    "As we are testing on multilabelled data, we don't have any samples with a single label as true label. <br>\n",
    "In the diagonal we see the exact matches, and the small diagonal lines and straight columns at the left side of the confusion matrix indicates that the model has a partially correct result, predicting one of the two sound events present. \n",
    "\n",
    "An <i>xxx</i> label is also shown in the confusion matrix, this is to indicate that the model did not make any predictions for a sample."
   ]
  },
  {
   "cell_type": "markdown",
   "metadata": {},
   "source": [
    "### Pretraining using single label data\n",
    "To see if the multilabel classifier would benefit from initially learning the representation of each single label in the dataset, we pretrained a model on the UrbanSound8K dataset.<br>\n",
    "This pretrained model was then loaded and we continued to train on the overlapping 50-50 dataset. And finally tested on one of the folders from the 50-50 dataset. <br>\n",
    "An important note is that we left out the same two folders of the UrbanSound8K in the pretraining phase as was used as validation and test set later.<br>\n",
    "\n",
    "The results from this was the following:"
   ]
  },
  {
   "cell_type": "markdown",
   "metadata": {},
   "source": [
    "<b>F1-Score</b> = [0.36 **0.75** **0.47** 0.48 0.44 0.63 **0.68** 0.67 **0.67** **0.67**] <br>\n",
    "<b>Zero-one loss</b>= 0.849\n",
    "\n",
    "\n",
    "![Confusionmatrix](conf_folder10_overlap_pretrained_on_single.png)\n",
    "\n",
    "\n",
    "These results show that we do not increase the performance of our multilabel classifier by pretraining on the singlelabelled data of the UrbanSound8K dataset."
   ]
  }
 ],
 "metadata": {
  "colab": {
   "collapsed_sections": [],
   "default_view": {},
   "name": "Notebook.ipynb",
   "provenance": [],
   "version": "0.3.2",
   "views": {}
  },
  "kernelspec": {
   "display_name": "Python 3",
   "language": "python",
   "name": "python3"
  },
  "language_info": {
   "codemirror_mode": {
    "name": "ipython",
    "version": 3
   },
   "file_extension": ".py",
   "mimetype": "text/x-python",
   "name": "python",
   "nbconvert_exporter": "python",
   "pygments_lexer": "ipython3",
   "version": "3.6.3"
  }
 },
 "nbformat": 4,
 "nbformat_minor": 1
}
