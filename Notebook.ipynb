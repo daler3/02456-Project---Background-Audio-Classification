{
 "cells": [
  {
   "cell_type": "markdown",
   "metadata": {},
   "source": [
    "# 1. Experimental frame setup"
   ]
  },
  {
   "cell_type": "markdown",
   "metadata": {},
   "source": [
    "## 1.1 Dataset download\n",
    "1. UrbanSound8K\n",
    "Download the dataset from https://serv.cusp.nyu.edu/projects/urbansounddataset/download-urbansound8k.html .\n",
    "\n",
    "2. Extracted Features - long60 \n",
    "Download the extracted features from \n",
    "\n",
    "3. Extracted Features - overlap7525\n",
    "Download the extracted features from "
   ]
  },
  {
   "cell_type": "markdown",
   "metadata": {},
   "source": [
    "## 1.2 Feature extraction\n",
    "Starting from the .wav files of the UrbanSound8K dataset, we use the $\\texttt{librosa}$ library to obtain a numerical representation. We save the extracted features and labels in two $\\texttt{.npy}$ files that we can easily load in memory. This is crucial in the process of cross-validation, where we would otherwise lose a lot of time reloading the files with $\\texttt{librosa}$."
   ]
  },
  {
   "cell_type": "code",
   "execution_count": 8,
   "metadata": {
    "collapsed": true
   },
   "outputs": [],
   "source": [
    "from preprocessor import preprocessor\n",
    "\n",
    "pp = preprocessor()\n",
    "\n",
    "train_dirs = [\"fold1\", \"fold2\", \"fold3\", \"fold4\", \"fold5\", \"fold6\", \"fold7\", \"fold8\", \"fold9\", \"fold10\"]\n",
    "\n",
    "#pp.save_fts_lbs(train_dirs=train_dirs, save_path='extracted_short_60', segment_size=20480, overlap=0.5, bands=60, frames=41)\n",
    "#pp.save_fts_lbs(train_dirs=train_dirs, save_path='extracted_long_60', segment_size=51200, overlap=0.9, bands=200, frames=101)\n",
    "#pp.save_fts_lbs(train_dirs=train_dirs, save_path='extracted_short_200', segment_size=20480, overlap=0.5, bands=200, frames=41)\n",
    "#pp.save_fts_lbs(train_dirs=train_dirs, save_path='extracted_long_200', segment_size=51200, overlap=0.9, bands=200, frames=101)"
   ]
  },
  {
   "cell_type": "markdown",
   "metadata": {},
   "source": [
    "## 1.3 Overlapping of segments"
   ]
  },
  {
   "cell_type": "code",
   "execution_count": null,
   "metadata": {
    "collapsed": true
   },
   "outputs": [],
   "source": []
  },
  {
   "cell_type": "markdown",
   "metadata": {},
   "source": [
    "# 2. Piczak CNN\n",
    "## 2.1 Cross Validation\n",
    "For each model (i.e. short60, long60, short200, long200) we ran 10-fold cross-validation, using eight folders as training data, one folder as validation set and one folder as test set. "
   ]
  },
  {
   "cell_type": "code",
   "execution_count": null,
   "metadata": {
    "collapsed": true
   },
   "outputs": [],
   "source": [
    "from train_models import piczac_cross_validation\n",
    "\n",
    "piczac_cross_validation(epochs=300, load_path='extracted_short_60')\n",
    "piczac_cross_validation(epochs=300, load_path='extracted_long_60')\n",
    "piczac_cross_validation(epochs=300, load_path='extracted_short_200')\n",
    "piczac_cross_validation(epochs=300, load_path='extracted_long_200')"
   ]
  },
  {
   "cell_type": "markdown",
   "metadata": {},
   "source": [
    "If you want to see the training process, you can download the TensorBoard folder from . \n",
    "\n",
    "Below you can see the final results."
   ]
  },
  {
   "cell_type": "code",
   "execution_count": 4,
   "metadata": {},
   "outputs": [
    {
     "data": {
      "text/html": [
       "<div>\n",
       "<style>\n",
       "    .dataframe thead tr:only-child th {\n",
       "        text-align: right;\n",
       "    }\n",
       "\n",
       "    .dataframe thead th {\n",
       "        text-align: left;\n",
       "    }\n",
       "\n",
       "    .dataframe tbody tr th {\n",
       "        vertical-align: top;\n",
       "    }\n",
       "</style>\n",
       "<table border=\"1\" class=\"dataframe\">\n",
       "  <thead>\n",
       "    <tr style=\"text-align: right;\">\n",
       "      <th></th>\n",
       "      <th>run1</th>\n",
       "      <th>run2</th>\n",
       "      <th>run3</th>\n",
       "      <th>run4</th>\n",
       "      <th>run5</th>\n",
       "      <th>run6</th>\n",
       "      <th>run7</th>\n",
       "      <th>run8</th>\n",
       "      <th>run9</th>\n",
       "      <th>run10</th>\n",
       "      <th>Average</th>\n",
       "      <th>StDev</th>\n",
       "    </tr>\n",
       "  </thead>\n",
       "  <tbody>\n",
       "    <tr>\n",
       "      <th>short_60</th>\n",
       "      <td>0.631746</td>\n",
       "      <td>0.524219</td>\n",
       "      <td>0.519109</td>\n",
       "      <td>0.614269</td>\n",
       "      <td>0.623094</td>\n",
       "      <td>0.550229</td>\n",
       "      <td>0.555519</td>\n",
       "      <td>0.587509</td>\n",
       "      <td>0.647792</td>\n",
       "      <td>0.675970</td>\n",
       "      <td>0.583721</td>\n",
       "      <td>0.048142</td>\n",
       "    </tr>\n",
       "    <tr>\n",
       "      <th>long_60</th>\n",
       "      <td>0.690345</td>\n",
       "      <td>0.671870</td>\n",
       "      <td>0.518753</td>\n",
       "      <td>0.651414</td>\n",
       "      <td>0.683282</td>\n",
       "      <td>0.515301</td>\n",
       "      <td>0.623859</td>\n",
       "      <td>0.548439</td>\n",
       "      <td>0.703675</td>\n",
       "      <td>0.737907</td>\n",
       "      <td>0.634484</td>\n",
       "      <td>0.080128</td>\n",
       "    </tr>\n",
       "    <tr>\n",
       "      <th>short_200</th>\n",
       "      <td>0.568919</td>\n",
       "      <td>0.584927</td>\n",
       "      <td>0.511141</td>\n",
       "      <td>0.590961</td>\n",
       "      <td>0.631396</td>\n",
       "      <td>0.576656</td>\n",
       "      <td>0.583974</td>\n",
       "      <td>0.660578</td>\n",
       "      <td>0.658915</td>\n",
       "      <td>0.646573</td>\n",
       "      <td>0.601404</td>\n",
       "      <td>0.047432</td>\n",
       "    </tr>\n",
       "    <tr>\n",
       "      <th>long_200</th>\n",
       "      <td>0.639606</td>\n",
       "      <td>0.586811</td>\n",
       "      <td>0.563517</td>\n",
       "      <td>0.670743</td>\n",
       "      <td>0.634963</td>\n",
       "      <td>0.564297</td>\n",
       "      <td>0.609190</td>\n",
       "      <td>0.704243</td>\n",
       "      <td>0.675298</td>\n",
       "      <td>0.601156</td>\n",
       "      <td>0.624982</td>\n",
       "      <td>0.048254</td>\n",
       "    </tr>\n",
       "  </tbody>\n",
       "</table>\n",
       "</div>"
      ],
      "text/plain": [
       "               run1      run2      run3      run4      run5      run6  \\\n",
       "short_60   0.631746  0.524219  0.519109  0.614269  0.623094  0.550229   \n",
       "long_60    0.690345  0.671870  0.518753  0.651414  0.683282  0.515301   \n",
       "short_200  0.568919  0.584927  0.511141  0.590961  0.631396  0.576656   \n",
       "long_200   0.639606  0.586811  0.563517  0.670743  0.634963  0.564297   \n",
       "\n",
       "               run7      run8      run9     run10   Average     StDev  \n",
       "short_60   0.555519  0.587509  0.647792  0.675970  0.583721  0.048142  \n",
       "long_60    0.623859  0.548439  0.703675  0.737907  0.634484  0.080128  \n",
       "short_200  0.583974  0.660578  0.658915  0.646573  0.601404  0.047432  \n",
       "long_200   0.609190  0.704243  0.675298  0.601156  0.624982  0.048254  "
      ]
     },
     "execution_count": 4,
     "metadata": {},
     "output_type": "execute_result"
    }
   ],
   "source": [
    "import pandas as pd\n",
    "\n",
    "df = pd.read_excel('logs/piczak_cv_results.xlsx', sheet_name=None)\n",
    "df.head()"
   ]
  },
  {
   "cell_type": "markdown",
   "metadata": {},
   "source": [
    "## 2.1 Confusion Matrix"
   ]
  },
  {
   "cell_type": "code",
   "execution_count": 8,
   "metadata": {},
   "outputs": [
    {
     "name": "stdout",
     "output_type": "stream",
     "text": [
      "Confusion matrix, without normalization\n",
      "[[627   0   8  18   1  28   0 211   0   0]\n",
      " [  0 107   6   0  34   0   7   0   0  28]\n",
      " [ 43   0 771   3   0   0   0   0  14  59]\n",
      " [  0   0  56 536   1   2  18   0   0   0]\n",
      " [ 17   0   4  15 511   0  22  96   0   2]\n",
      " [297   0  76   2   0 433   0  64   4  14]\n",
      " [  0   0   3   7   0   0  47   1   0   9]\n",
      " [157   0   0   0  39 659   3  69   0   6]\n",
      " [ 48   0  88   0   0  16   0   0 642  25]\n",
      " [ 55   0 155   0  26   0   0   0   1 663]]\n"
     ]
    }
   ],
   "source": [
    "import train_models as tm\n",
    "\n",
    "model_filename = '/Users/lucacambiaghi/OneDrive - Danmarks Tekniske Universitet/Deep Learning Data/models/long60/long60_150_(1, 2).h5'\n",
    "load_path = '/Users/lucacambiaghi/OneDrive - Danmarks Tekniske Universitet/Deep Learning Data/extracted/long_60'\n",
    "\n",
    "tm.plot_confusion_matrix(model_filename, load_path)"
   ]
  },
  {
   "cell_type": "markdown",
   "metadata": {},
   "source": [
    "## 2.2 Boxplot\n",
    "https://plot.ly/matplotlib/box-plots/#multiple-box-plots"
   ]
  },
  {
   "cell_type": "code",
   "execution_count": null,
   "metadata": {
    "collapsed": true
   },
   "outputs": [],
   "source": []
  },
  {
   "cell_type": "markdown",
   "metadata": {},
   "source": [
    "# 3. Piczak cnn on overlapping sounds"
   ]
  },
  {
   "cell_type": "code",
   "execution_count": null,
   "metadata": {
    "collapsed": true
   },
   "outputs": [],
   "source": []
  }
 ],
 "metadata": {
  "kernelspec": {
   "display_name": "Python 2",
   "language": "python",
   "name": "python2"
  },
  "language_info": {
   "codemirror_mode": {
    "name": "ipython",
    "version": 2
   },
   "file_extension": ".py",
   "mimetype": "text/x-python",
   "name": "python",
   "nbconvert_exporter": "python",
   "pygments_lexer": "ipython2",
   "version": "2.7.13"
  }
 },
 "nbformat": 4,
 "nbformat_minor": 2
}
